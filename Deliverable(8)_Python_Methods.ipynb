{
  "nbformat": 4,
  "nbformat_minor": 0,
  "metadata": {
    "colab": {
      "provenance": []
    },
    "kernelspec": {
      "name": "python3",
      "display_name": "Python 3"
    },
    "language_info": {
      "name": "python"
    }
  },
  "cells": [
    {
      "cell_type": "code",
      "execution_count": 2,
      "metadata": {
        "colab": {
          "base_uri": "https://localhost:8080/"
        },
        "id": "xnT0v2OXmqIV",
        "outputId": "11551292-03a3-4f42-be4d-6fc60ad3daef"
      },
      "outputs": [
        {
          "output_type": "stream",
          "name": "stdout",
          "text": [
            "Please enter an integer number between 5 and 15: 21\n",
            "Invalid entry. Please try again.\n",
            "Please enter an integer number between 5 and 15: 4\n",
            "Invalid entry. Please try again.\n",
            "Please enter an integer number between 5 and 15: 10\n",
            "The elements of the array are: 19 39 43 42 17 42 19 38 34 19 \n",
            "The sum is: 312\n"
          ]
        }
      ],
      "source": [
        "import random\n",
        "\n",
        "def populate_list(length):\n",
        "    \"\"\"\n",
        "    Populates a list with integers between 10 and 50 randomly generated.\n",
        "    \"\"\"\n",
        "    lst = []\n",
        "    for i in range(length):\n",
        "        lst.append(random.randint(10, 50))\n",
        "    return lst\n",
        "\n",
        "def sum_list(lst):\n",
        "    \"\"\"\n",
        "    Returns the sum of all elements in the list.\n",
        "    \"\"\"\n",
        "    return sum(lst)\n",
        "\n",
        "#Validate Entry\n",
        "while True:\n",
        "    user_entry = input(\"Please enter an integer number between 5 and 15: \")\n",
        "    try:\n",
        "        user_entry = int(user_entry)\n",
        "        if user_entry >= 5 and user_entry <= 15:\n",
        "            break\n",
        "        else:\n",
        "            print(\"Invalid entry. Please try again.\")\n",
        "    except ValueError:\n",
        "        print(\"Invalid entry. Please try again.\")\n",
        "\n",
        "#Method 1\n",
        "random_lst = populate_list(user_entry)\n",
        "\n",
        "print(\"The elements of the array are:\", end=\" \")\n",
        "for num in random_lst:\n",
        "    print(num, end=\" \")\n",
        "\n",
        "#Method 2\n",
        "total_sum = sum_list(random_lst)\n",
        "\n",
        "print(\"\\nThe sum is:\", total_sum)"
      ]
    }
  ]
}